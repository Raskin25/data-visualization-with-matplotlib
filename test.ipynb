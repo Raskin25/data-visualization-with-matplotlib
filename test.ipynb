{
 "cells": [
  {
   "cell_type": "code",
   "execution_count": null,
   "metadata": {},
   "outputs": [],
   "source": [
    "import numpy as np\n",
    "import matplotlib as mpl\n",
    "import matplotlib.pyplot as plt\n",
    "X=np.linspace(0, 2*np.pi, 100)\n",
    "Y=np.cos(X)\n",
    "fig, ax=plt.subplots()\n",
    "ax.plot(X,Y, color='green')\n",
    "fig.savefig(\"figure.pdf\")\n",
    "plt.show()"
   ]
  }
 ],
 "metadata": {
  "language_info": {
   "name": "python"
  }
 },
 "nbformat": 4,
 "nbformat_minor": 2
}
