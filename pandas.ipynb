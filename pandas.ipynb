{
 "cells": [
  {
   "cell_type": "code",
   "execution_count": null,
   "metadata": {},
   "outputs": [],
   "source": []
  },
  {
   "cell_type": "markdown",
   "metadata": {},
   "source": [
    "## We can use CSV or Excel file to store the data. And analyse the data using pandas library."
   ]
  },
  {
   "cell_type": "code",
   "execution_count": null,
   "metadata": {},
   "outputs": [],
   "source": [
    "import pandas as pd\n",
    "\n",
    "df = pd.read_csv('data.csv')\n",
    "\n",
    "print(df.to_string()) "
   ]
  },
  {
   "cell_type": "markdown",
   "metadata": {},
   "source": [
    "## Also lets make a simple DataFrame"
   ]
  },
  {
   "cell_type": "code",
   "execution_count": null,
   "metadata": {},
   "outputs": [
    {
     "name": "stdout",
     "output_type": "stream",
     "text": [
      "   calories  duration\n",
      "0       420        50\n",
      "1       380        40\n",
      "2       390        45\n"
     ]
    }
   ],
   "source": [
    "import pandas as pd\n",
    "\n",
    "data = {\n",
    "  \"calories\": [420, 380, 390],\n",
    "  \"duration\": [50, 40, 45]\n",
    "}\n",
    "\n",
    "#load data into a DataFrame object:\n",
    "df = pd.DataFrame(data)\n",
    "\n",
    "print(df) "
   ]
  },
  {
   "cell_type": "markdown",
   "metadata": {},
   "source": [
    "## Data Cleaning"
   ]
  },
  {
   "cell_type": "code",
   "execution_count": null,
   "metadata": {},
   "outputs": [
    {
     "name": "stdout",
     "output_type": "stream",
     "text": [
      "Original DataFrame:\n",
      "   ID      Name   Age             Email\n",
      "0   1  John Doe  28.0  john@example.com\n",
      "1   2  Jane Doe   NaN  jane@example.com\n",
      "2   3  Jim Beam  34.0              None\n",
      "\n",
      "DataFrame after filling missing values:\n",
      "   ID      Name   Age                Email\n",
      "0   1  John Doe  28.0     john@example.com\n",
      "1   2  Jane Doe  31.0     jane@example.com\n",
      "2   3  Jim Beam  34.0  noemail@example.com\n"
     ]
    }
   ],
   "source": [
    "import pandas as pd\n",
    "\n",
    "# Sample data with empty cells\n",
    "data = {\n",
    "    'ID': [1, 2, 3],\n",
    "    'Name': ['John Doe', 'Jane Doe', 'Jim Beam'],\n",
    "    'Age': [28, None, 34],\n",
    "    'Email': ['john@example.com', 'jane@example.com', None]\n",
    "}\n",
    "\n",
    "df = pd.DataFrame(data)\n",
    "print(\"Original DataFrame:\")\n",
    "print(df)\n",
    "\n",
    "# Fill missing values in the 'Age' column with the mean age\n",
    "df['Age'].fillna(df['Age'].mean(), inplace=True)\n",
    "\n",
    "# Fill missing values in the 'Email' column with a placeholder\n",
    "df['Email'].fillna('noemail@example.com', inplace=True)\n",
    "\n",
    "print(\"\\nDataFrame after filling missing values:\")\n",
    "print(df)\n"
   ]
  },
  {
   "cell_type": "markdown",
   "metadata": {},
   "source": [
    "## Handeling Data in Wrong Format"
   ]
  },
  {
   "cell_type": "code",
   "execution_count": null,
   "metadata": {},
   "outputs": [
    {
     "name": "stdout",
     "output_type": "stream",
     "text": [
      "Original DataFrame:\n",
      "   ID         Name Date of Birth\n",
      "0   1   John Smith    1985-12-05\n",
      "1   2  Emily Davis    05/12/1987\n",
      "2   3  Michael Lee      12/05/90\n"
     ]
    },
    {
     "ename": "ValueError",
     "evalue": "time data \"05/12/1987\" doesn't match format \"%Y-%d-%m\", at position 1. You might want to try:\n    - passing `format` if your strings have a consistent format;\n    - passing `format='ISO8601'` if your strings are all ISO8601 but not necessarily in exactly the same format;\n    - passing `format='mixed'`, and the format will be inferred for each element individually. You might want to use `dayfirst` alongside this.",
     "output_type": "error",
     "traceback": [
      "\u001b[1;31m---------------------------------------------------------------------------\u001b[0m\n",
      "\u001b[1;31mValueError\u001b[0m                                Traceback (most recent call last)\n",
      "Cell \u001b[1;32mIn[2], line 15\u001b[0m\n",
      "\u001b[0;32m     12\u001b[0m \u001b[38;5;28mprint\u001b[39m(df)\n",
      "\u001b[0;32m     14\u001b[0m \u001b[38;5;66;03m# Standardize date format to YYYY-MM-DD\u001b[39;00m\n",
      "\u001b[1;32m---> 15\u001b[0m df[\u001b[38;5;124m'\u001b[39m\u001b[38;5;124mDate of Birth\u001b[39m\u001b[38;5;124m'\u001b[39m] \u001b[38;5;241m=\u001b[39m \u001b[43mpd\u001b[49m\u001b[38;5;241;43m.\u001b[39;49m\u001b[43mto_datetime\u001b[49m\u001b[43m(\u001b[49m\u001b[43mdf\u001b[49m\u001b[43m[\u001b[49m\u001b[38;5;124;43m'\u001b[39;49m\u001b[38;5;124;43mDate of Birth\u001b[39;49m\u001b[38;5;124;43m'\u001b[39;49m\u001b[43m]\u001b[49m\u001b[43m,\u001b[49m\u001b[43m \u001b[49m\u001b[43mdayfirst\u001b[49m\u001b[38;5;241;43m=\u001b[39;49m\u001b[38;5;28;43;01mTrue\u001b[39;49;00m\u001b[43m)\u001b[49m\u001b[38;5;241m.\u001b[39mdt\u001b[38;5;241m.\u001b[39mstrftime(\u001b[38;5;124m'\u001b[39m\u001b[38;5;124m%\u001b[39m\u001b[38;5;124mY-\u001b[39m\u001b[38;5;124m%\u001b[39m\u001b[38;5;124mm-\u001b[39m\u001b[38;5;132;01m%d\u001b[39;00m\u001b[38;5;124m'\u001b[39m)\n",
      "\u001b[0;32m     17\u001b[0m \u001b[38;5;28mprint\u001b[39m(\u001b[38;5;124m\"\u001b[39m\u001b[38;5;130;01m\\n\u001b[39;00m\u001b[38;5;124mDataFrame after standardizing date format:\u001b[39m\u001b[38;5;124m\"\u001b[39m)\n",
      "\u001b[0;32m     18\u001b[0m \u001b[38;5;28mprint\u001b[39m(df)\n",
      "\n",
      "File \u001b[1;32mc:\\Users\\User\\AppData\\Local\\Programs\\Python\\Python312\\Lib\\site-packages\\pandas\\core\\tools\\datetimes.py:1067\u001b[0m, in \u001b[0;36mto_datetime\u001b[1;34m(arg, errors, dayfirst, yearfirst, utc, format, exact, unit, infer_datetime_format, origin, cache)\u001b[0m\n",
      "\u001b[0;32m   1065\u001b[0m         result \u001b[38;5;241m=\u001b[39m arg\u001b[38;5;241m.\u001b[39mmap(cache_array)\n",
      "\u001b[0;32m   1066\u001b[0m     \u001b[38;5;28;01melse\u001b[39;00m:\n",
      "\u001b[1;32m-> 1067\u001b[0m         values \u001b[38;5;241m=\u001b[39m \u001b[43mconvert_listlike\u001b[49m\u001b[43m(\u001b[49m\u001b[43marg\u001b[49m\u001b[38;5;241;43m.\u001b[39;49m\u001b[43m_values\u001b[49m\u001b[43m,\u001b[49m\u001b[43m \u001b[49m\u001b[38;5;28;43mformat\u001b[39;49m\u001b[43m)\u001b[49m\n",
      "\u001b[0;32m   1068\u001b[0m         result \u001b[38;5;241m=\u001b[39m arg\u001b[38;5;241m.\u001b[39m_constructor(values, index\u001b[38;5;241m=\u001b[39marg\u001b[38;5;241m.\u001b[39mindex, name\u001b[38;5;241m=\u001b[39marg\u001b[38;5;241m.\u001b[39mname)\n",
      "\u001b[0;32m   1069\u001b[0m \u001b[38;5;28;01melif\u001b[39;00m \u001b[38;5;28misinstance\u001b[39m(arg, (ABCDataFrame, abc\u001b[38;5;241m.\u001b[39mMutableMapping)):\n",
      "\n",
      "File \u001b[1;32mc:\\Users\\User\\AppData\\Local\\Programs\\Python\\Python312\\Lib\\site-packages\\pandas\\core\\tools\\datetimes.py:433\u001b[0m, in \u001b[0;36m_convert_listlike_datetimes\u001b[1;34m(arg, format, name, utc, unit, errors, dayfirst, yearfirst, exact)\u001b[0m\n",
      "\u001b[0;32m    431\u001b[0m \u001b[38;5;66;03m# `format` could be inferred, or user didn't ask for mixed-format parsing.\u001b[39;00m\n",
      "\u001b[0;32m    432\u001b[0m \u001b[38;5;28;01mif\u001b[39;00m \u001b[38;5;28mformat\u001b[39m \u001b[38;5;129;01mis\u001b[39;00m \u001b[38;5;129;01mnot\u001b[39;00m \u001b[38;5;28;01mNone\u001b[39;00m \u001b[38;5;129;01mand\u001b[39;00m \u001b[38;5;28mformat\u001b[39m \u001b[38;5;241m!=\u001b[39m \u001b[38;5;124m\"\u001b[39m\u001b[38;5;124mmixed\u001b[39m\u001b[38;5;124m\"\u001b[39m:\n",
      "\u001b[1;32m--> 433\u001b[0m     \u001b[38;5;28;01mreturn\u001b[39;00m \u001b[43m_array_strptime_with_fallback\u001b[49m\u001b[43m(\u001b[49m\u001b[43marg\u001b[49m\u001b[43m,\u001b[49m\u001b[43m \u001b[49m\u001b[43mname\u001b[49m\u001b[43m,\u001b[49m\u001b[43m \u001b[49m\u001b[43mutc\u001b[49m\u001b[43m,\u001b[49m\u001b[43m \u001b[49m\u001b[38;5;28;43mformat\u001b[39;49m\u001b[43m,\u001b[49m\u001b[43m \u001b[49m\u001b[43mexact\u001b[49m\u001b[43m,\u001b[49m\u001b[43m \u001b[49m\u001b[43merrors\u001b[49m\u001b[43m)\u001b[49m\n",
      "\u001b[0;32m    435\u001b[0m result, tz_parsed \u001b[38;5;241m=\u001b[39m objects_to_datetime64(\n",
      "\u001b[0;32m    436\u001b[0m     arg,\n",
      "\u001b[0;32m    437\u001b[0m     dayfirst\u001b[38;5;241m=\u001b[39mdayfirst,\n",
      "\u001b[1;32m   (...)\u001b[0m\n",
      "\u001b[0;32m    441\u001b[0m     allow_object\u001b[38;5;241m=\u001b[39m\u001b[38;5;28;01mTrue\u001b[39;00m,\n",
      "\u001b[0;32m    442\u001b[0m )\n",
      "\u001b[0;32m    444\u001b[0m \u001b[38;5;28;01mif\u001b[39;00m tz_parsed \u001b[38;5;129;01mis\u001b[39;00m \u001b[38;5;129;01mnot\u001b[39;00m \u001b[38;5;28;01mNone\u001b[39;00m:\n",
      "\u001b[0;32m    445\u001b[0m     \u001b[38;5;66;03m# We can take a shortcut since the datetime64 numpy array\u001b[39;00m\n",
      "\u001b[0;32m    446\u001b[0m     \u001b[38;5;66;03m# is in UTC\u001b[39;00m\n",
      "\n",
      "File \u001b[1;32mc:\\Users\\User\\AppData\\Local\\Programs\\Python\\Python312\\Lib\\site-packages\\pandas\\core\\tools\\datetimes.py:467\u001b[0m, in \u001b[0;36m_array_strptime_with_fallback\u001b[1;34m(arg, name, utc, fmt, exact, errors)\u001b[0m\n",
      "\u001b[0;32m    456\u001b[0m \u001b[38;5;28;01mdef\u001b[39;00m \u001b[38;5;21m_array_strptime_with_fallback\u001b[39m(\n",
      "\u001b[0;32m    457\u001b[0m     arg,\n",
      "\u001b[0;32m    458\u001b[0m     name,\n",
      "\u001b[1;32m   (...)\u001b[0m\n",
      "\u001b[0;32m    462\u001b[0m     errors: \u001b[38;5;28mstr\u001b[39m,\n",
      "\u001b[0;32m    463\u001b[0m ) \u001b[38;5;241m-\u001b[39m\u001b[38;5;241m>\u001b[39m Index:\n",
      "\u001b[0;32m    464\u001b[0m \u001b[38;5;250m    \u001b[39m\u001b[38;5;124;03m\"\"\"\u001b[39;00m\n",
      "\u001b[0;32m    465\u001b[0m \u001b[38;5;124;03m    Call array_strptime, with fallback behavior depending on 'errors'.\u001b[39;00m\n",
      "\u001b[0;32m    466\u001b[0m \u001b[38;5;124;03m    \"\"\"\u001b[39;00m\n",
      "\u001b[1;32m--> 467\u001b[0m     result, tz_out \u001b[38;5;241m=\u001b[39m \u001b[43marray_strptime\u001b[49m\u001b[43m(\u001b[49m\u001b[43marg\u001b[49m\u001b[43m,\u001b[49m\u001b[43m \u001b[49m\u001b[43mfmt\u001b[49m\u001b[43m,\u001b[49m\u001b[43m \u001b[49m\u001b[43mexact\u001b[49m\u001b[38;5;241;43m=\u001b[39;49m\u001b[43mexact\u001b[49m\u001b[43m,\u001b[49m\u001b[43m \u001b[49m\u001b[43merrors\u001b[49m\u001b[38;5;241;43m=\u001b[39;49m\u001b[43merrors\u001b[49m\u001b[43m,\u001b[49m\u001b[43m \u001b[49m\u001b[43mutc\u001b[49m\u001b[38;5;241;43m=\u001b[39;49m\u001b[43mutc\u001b[49m\u001b[43m)\u001b[49m\n",
      "\u001b[0;32m    468\u001b[0m     \u001b[38;5;28;01mif\u001b[39;00m tz_out \u001b[38;5;129;01mis\u001b[39;00m \u001b[38;5;129;01mnot\u001b[39;00m \u001b[38;5;28;01mNone\u001b[39;00m:\n",
      "\u001b[0;32m    469\u001b[0m         unit \u001b[38;5;241m=\u001b[39m np\u001b[38;5;241m.\u001b[39mdatetime_data(result\u001b[38;5;241m.\u001b[39mdtype)[\u001b[38;5;241m0\u001b[39m]\n",
      "\n",
      "File \u001b[1;32mstrptime.pyx:501\u001b[0m, in \u001b[0;36mpandas._libs.tslibs.strptime.array_strptime\u001b[1;34m()\u001b[0m\n",
      "\n",
      "File \u001b[1;32mstrptime.pyx:451\u001b[0m, in \u001b[0;36mpandas._libs.tslibs.strptime.array_strptime\u001b[1;34m()\u001b[0m\n",
      "\n",
      "File \u001b[1;32mstrptime.pyx:583\u001b[0m, in \u001b[0;36mpandas._libs.tslibs.strptime._parse_with_format\u001b[1;34m()\u001b[0m\n",
      "\n",
      "\u001b[1;31mValueError\u001b[0m: time data \"05/12/1987\" doesn't match format \"%Y-%d-%m\", at position 1. You might want to try:\n",
      "    - passing `format` if your strings have a consistent format;\n",
      "    - passing `format='ISO8601'` if your strings are all ISO8601 but not necessarily in exactly the same format;\n",
      "    - passing `format='mixed'`, and the format will be inferred for each element individually. You might want to use `dayfirst` alongside this."
     ]
    }
   ],
   "source": [
    "import pandas as pd\n",
    "\n",
    "# Sample data with dates in different formats\n",
    "data = {\n",
    "    'ID': [1, 2, 3],\n",
    "    'Name': ['John Smith', 'Emily Davis', 'Michael Lee'],\n",
    "    'Date of Birth': ['1985-12-05', '05/12/1987', '12/05/90']\n",
    "}\n",
    "\n",
    "df = pd.DataFrame(data)\n",
    "print(\"Original DataFrame:\")\n",
    "print(df)\n",
    "\n",
    "# Standardize date format to YYYY-MM-DD\n",
    "df['Date of Birth'] = pd.to_datetime(df['Date of Birth'], dayfirst=True).dt.strftime('%Y-%m-%d')\n",
    "\n",
    "print(\"\\nDataFrame after standardizing date format:\")\n",
    "print(df)\n"
   ]
  },
  {
   "cell_type": "markdown",
   "metadata": {},
   "source": [
    "## Handling Wrong Data"
   ]
  },
  {
   "cell_type": "code",
   "execution_count": null,
   "metadata": {},
   "outputs": [],
   "source": [
    "import pandas as pd\n",
    "\n",
    "# Sample data with wrong data (negative price)\n",
    "data = {\n",
    "    'ID': [1, 2, 3],\n",
    "    'Product': ['Apple', 'Banana', 'Cherry'],\n",
    "    'Price': [1.20, 0.50, -1.00]\n",
    "}\n",
    "\n",
    "df = pd.DataFrame(data)\n",
    "print(\"Original DataFrame:\")\n",
    "print(df)\n",
    "\n",
    "# Define a function to correct negative prices\n",
    "def correct_price(price):\n",
    "    if price < 0:\n",
    "        return abs(price)\n",
    "    return price\n",
    "\n",
    "# Apply the function to the 'Price' column\n",
    "df['Price'] = df['Price'].apply(correct_price)\n",
    "\n",
    "print(\"\\nDataFrame after correcting wrong data:\")\n",
    "print(df)\n"
   ]
  },
  {
   "cell_type": "markdown",
   "metadata": {},
   "source": [
    "## Drop Duplicate Rows"
   ]
  },
  {
   "cell_type": "code",
   "execution_count": null,
   "metadata": {},
   "outputs": [],
   "source": [
    "import pandas as pd\n",
    "\n",
    "# Sample data with duplicates\n",
    "data = {\n",
    "    'ID': [1, 2, 3, 3],\n",
    "    'Name': ['Anna Brown', 'Tom Green', 'Anna Brown', 'Anna Brown'],\n",
    "    'Age': [30, 45, 30, 30]\n",
    "}\n",
    "\n",
    "df = pd.DataFrame(data)\n",
    "print(\"Original DataFrame:\")\n",
    "print(df)\n",
    "\n",
    "# Removing duplicate rows\n",
    "df.drop_duplicates(inplace=True)\n",
    "\n",
    "print(\"\\nDataFrame after removing duplicates:\")\n",
    "print(df)\n"
   ]
  },
  {
   "cell_type": "markdown",
   "metadata": {},
   "source": [
    "## Viewing Data"
   ]
  },
  {
   "cell_type": "code",
   "execution_count": null,
   "metadata": {},
   "outputs": [],
   "source": [
    "# Importing pandas\n",
    "import pandas as pd\n",
    "\n",
    "# Creating DataFrames\n",
    "# From a dictionary\n",
    "data = {'Name': ['John', 'Jane', 'Jim'], 'Age': [28, 24, 31]}\n",
    "df = pd.DataFrame(data)\n",
    "\n",
    "# From a CSV file (assuming a file named 'file.csv' exists)\n",
    "# df = pd.read_csv('file.csv')"
   ]
  },
  {
   "cell_type": "code",
   "execution_count": null,
   "metadata": {},
   "outputs": [],
   "source": [
    "\n",
    "\n",
    "# Viewing Data\n",
    "# Display the first few rows\n",
    "print(\"First few rows of the DataFrame:\")\n",
    "print(df.head())\n",
    "\n",
    "# Display the last few rows\n",
    "print(\"\\nLast few rows of the DataFrame:\")\n",
    "print(df.tail())\n",
    "\n",
    "# Get basic information about the DataFrame\n",
    "print(\"\\nBasic information about the DataFrame:\")\n",
    "print(df.info())"
   ]
  },
  {
   "cell_type": "code",
   "execution_count": null,
   "metadata": {},
   "outputs": [],
   "source": [
    "# Select a column\n",
    "print(\"\\nSelecting the 'Name' column:\")\n",
    "print(df['Name'])\n",
    "\n",
    "# Select multiple columns\n",
    "print(\"\\nSelecting the 'Name' and 'Age' columns:\")\n",
    "print(df[['Name', 'Age']])\n",
    "\n",
    "# Select rows by index\n",
    "print(\"\\nSelecting the first row by index:\")\n",
    "print(df.iloc[0])\n",
    "\n",
    "print(\"\\nSelecting the first two rows by index:\")\n",
    "print(df.iloc[0:2])\n",
    "\n",
    "# Select rows by condition\n",
    "print(\"\\nSelecting rows where 'Age' is greater than 25:\")\n",
    "print(df[df['Age'] > 25])"
   ]
  },
  {
   "cell_type": "code",
   "execution_count": null,
   "metadata": {},
   "outputs": [],
   "source": [
    "\n",
    "# Modifying Data\n",
    "# Add a new column\n",
    "df['Score'] = [85, 90, 88]\n",
    "print(\"\\nDataFrame after adding a new column 'Score':\")\n",
    "print(df)\n",
    "\n",
    "# Update values\n",
    "df.loc[0, 'Age'] = 29  # Update specific cell\n",
    "print(\"\\nDataFrame after updating 'Age' of the first row:\")\n",
    "print(df)\n",
    "\n",
    "df['Age'] = df['Age'] + 1  # Update entire column\n",
    "print(\"\\nDataFrame after incrementing 'Age' column by 1:\")\n",
    "print(df)\n",
    "\n",
    "# Drop a column\n",
    "df.drop('Score', axis=1, inplace=True)\n",
    "print(\"\\nDataFrame after dropping the 'Score' column:\")\n",
    "print(df)\n",
    "\n",
    "# Drop rows\n",
    "df.drop([0, 1], axis=0, inplace=True)\n",
    "print(\"\\nDataFrame after dropping the first two rows:\")\n",
    "print(df)\n",
    "\n",
    "# Handling Missing Data\n",
    "# Check for missing values\n",
    "print(\"\\nChecking for missing values:\")\n",
    "print(df.isnull().sum())\n",
    "\n",
    "# Fill missing values (adding some missing data for demonstration)\n",
    "df = pd.DataFrame({'Name': ['John', 'Jane', 'Jim'], 'Age': [28, None, 31], 'Email': [None, 'jane@example.com', 'jim@example.com']})\n",
    "print(\"\\nDataFrame with missing values:\")\n",
    "print(df)\n",
    "\n",
    "df['Age'].fillna(df['Age'].mean(), inplace=True)\n",
    "print(\"\\nDataFrame after filling missing 'Age' values with mean:\")\n",
    "print(df)\n",
    "\n",
    "df['Email'].fillna('noemail@example.com', inplace=True)\n",
    "print(\"\\nDataFrame after filling missing 'Email' values with placeholder:\")\n",
    "print(df)\n",
    "\n",
    "# Drop rows with missing values\n",
    "df.dropna(inplace=True)\n",
    "print(\"\\nDataFrame after dropping rows with missing values:\")\n",
    "print(df)\n",
    "\n",
    "# Sorting Data\n",
    "df = pd.DataFrame({'Name': ['John', 'Jane', 'Jim'], 'Age': [28, 24, 31]})\n",
    "df.sort_values('Age', ascending=False, inplace=True)\n",
    "print(\"\\nDataFrame after sorting by 'Age' in descending order:\")\n",
    "print(df)\n",
    "\n",
    "# Grouping Data\n",
    "df = pd.DataFrame({'Name': ['Anna', 'Anna', 'Bob'], 'Age': [30, 25, 30], 'Score': [85, 90, 88]})\n",
    "grouped_df = df.groupby('Name').mean()\n",
    "print(\"\\nDataFrame after grouping by 'Name' and calculating the mean:\")\n",
    "print(grouped_df)\n",
    "\n",
    "# Merging DataFrames\n",
    "df1 = pd.DataFrame({'key': ['A', 'B', 'C'], 'value': [1, 2, 3]})\n",
    "df2 = pd.DataFrame({'key': ['A', 'B', 'D'], 'value': [4, 5, 6]})\n",
    "merged_df = pd.merge(df1, df2, on='key')\n",
    "print(\"\\nMerged DataFrame on 'key':\")\n",
    "print(merged_df)\n",
    "\n",
    "# Saving Data\n",
    "df.to_csv('output.csv', index=False)\n",
    "print(\"\\nDataFrame saved to 'output.csv'\")\n"
   ]
  },
  {
   "cell_type": "markdown",
   "metadata": {},
   "source": [
    "## Numpy"
   ]
  },
  {
   "cell_type": "code",
   "execution_count": null,
   "metadata": {},
   "outputs": [
    {
     "name": "stdout",
     "output_type": "stream",
     "text": [
      "[1 2 3 4 5]\n",
      "<class 'numpy.ndarray'>\n"
     ]
    }
   ],
   "source": [
    "import numpy as np\n",
    "\n",
    "arr = np.array([1, 2, 3, 4, 5])\n",
    "\n",
    "print(arr)\n",
    "\n",
    "print(type(arr))"
   ]
  },
  {
   "cell_type": "markdown",
   "metadata": {},
   "source": [
    "### Shapes of Np array"
   ]
  },
  {
   "cell_type": "code",
   "execution_count": null,
   "metadata": {},
   "outputs": [
    {
     "name": "stdout",
     "output_type": "stream",
     "text": [
      "0\n",
      "1\n",
      "2\n",
      "3\n"
     ]
    }
   ],
   "source": [
    "a = np.array(42)\n",
    "b = np.array([1, 2, 3, 4, 5])\n",
    "c = np.array([[1, 2, 3], [4, 5, 6]])\n",
    "d = np.array([[[1, 2, 3], [4, 5, 6]], [[1, 2, 3], [4, 5, 6]]])\n",
    "\n",
    "print(a.ndim)\n",
    "print(b.ndim)\n",
    "print(c.ndim)\n",
    "print(d.ndim)\n"
   ]
  },
  {
   "cell_type": "code",
   "execution_count": null,
   "metadata": {},
   "outputs": [],
   "source": [
    "import numpy as np\n",
    "\n",
    "arr = np.array([1, 2, 3, 4])\n",
    "\n",
    "print(arr[1])"
   ]
  },
  {
   "cell_type": "code",
   "execution_count": null,
   "metadata": {},
   "outputs": [],
   "source": [
    "arr = np.array([[1,2,3,4,5], [6,7,8,9,10]])\n",
    "\n",
    "print('2nd element on 1st row: ', arr[0, 1])"
   ]
  },
  {
   "cell_type": "code",
   "execution_count": null,
   "metadata": {},
   "outputs": [
    {
     "name": "stdout",
     "output_type": "stream",
     "text": [
      "[7]\n"
     ]
    }
   ],
   "source": [
    "import numpy as np\n",
    "\n",
    "arr = np.array([1, 2, 3, 4, 5, 6, 7])\n",
    "\n",
    "print(arr[4:])"
   ]
  },
  {
   "cell_type": "code",
   "execution_count": null,
   "metadata": {},
   "outputs": [
    {
     "name": "stdout",
     "output_type": "stream",
     "text": [
      "[[ 1  2  3]\n",
      " [ 4  5  6]\n",
      " [ 7  8  9]\n",
      " [10 11 12]] (4, 3)\n"
     ]
    }
   ],
   "source": [
    "import numpy as np\n",
    "\n",
    "arr = np.array([1, 2, 3, 4, 5, 6, 7, 8, 9, 10, 11, 12])\n",
    "\n",
    "newarr = arr.reshape(4, 3)\n",
    "\n",
    "print(newarr , newarr.shape)"
   ]
  },
  {
   "cell_type": "code",
   "execution_count": null,
   "metadata": {},
   "outputs": [],
   "source": [
    "import numpy as np\n",
    "\n",
    "arr = np.array([1, 2, 3])\n",
    "#arr = np.array([[1, 2, 3], [4, 5, 6]])\n",
    "\n",
    "for x in arr:\n",
    "  print(x)"
   ]
  },
  {
   "cell_type": "code",
   "execution_count": null,
   "metadata": {},
   "outputs": [
    {
     "name": "stdout",
     "output_type": "stream",
     "text": [
      "Mean scores for each student: [84.33333333 86.66666667 81.66666667 88.33333333]\n",
      "Mean scores for each subject: [84.5  88.5  82.75]\n",
      "Student with the highest average score: 3\n",
      "Subject with the highest average score: Science\n"
     ]
    }
   ],
   "source": [
    "import numpy as np\n",
    "\n",
    "# Simulating a dataset\n",
    "# Rows represent students, columns represent subjects (Math, Science, English)\n",
    "scores = np.array([\n",
    "    [85, 90, 78],\n",
    "    [88, 92, 80],\n",
    "    [75, 85, 85],\n",
    "    [90, 87, 88]\n",
    "])\n",
    "\n",
    "# Calculate the mean score for each student\n",
    "mean_scores_students = np.mean(scores, axis=1)\n",
    "print(\"Mean scores for each student:\", mean_scores_students)\n",
    "\n",
    "# Calculate the mean score for each subject\n",
    "mean_scores_subjects = np.mean(scores, axis=0)\n",
    "print(\"Mean scores for each subject:\", mean_scores_subjects)\n",
    "\n",
    "# Find the student with the highest average score\n",
    "best_student_index = np.argmax(mean_scores_students)\n",
    "print(\"Student with the highest average score:\", best_student_index)\n",
    "\n",
    "# Find the subject with the highest average score\n",
    "best_subject_index = np.argmax(mean_scores_subjects)\n",
    "subject_names = ['Math', 'Science', 'English']\n",
    "print(\"Subject with the highest average score:\", subject_names[best_subject_index])\n"
   ]
  },
  {
   "cell_type": "code",
   "execution_count": null,
   "metadata": {},
   "outputs": [],
   "source": [
    "import numpy as np\n",
    "\n",
    "# Define two matrices\n",
    "matrix_a = np.array([[1, 2], [3, 4]])\n",
    "matrix_b = np.array([[5, 6], [7, 8]])\n",
    "\n",
    "# Perform matrix multiplication\n",
    "result = np.dot(matrix_a, matrix_b)\n",
    "\n",
    "# Print the resulting matrix\n",
    "print(\"Matrix A:\")\n",
    "print(matrix_a)\n",
    "print(\"\\nMatrix B:\")\n",
    "print(matrix_b)\n",
    "print(\"\\nResult of Matrix Multiplication:\")\n",
    "print(result)\n"
   ]
  }
 ],
 "metadata": {
  "language_info": {
   "name": "python"
  }
 },
 "nbformat": 4,
 "nbformat_minor": 2
}
